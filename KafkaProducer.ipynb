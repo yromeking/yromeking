{
 "cells": [
  {
   "cell_type": "markdown",
   "id": "4d55dbb0-160c-4379-a042-397108dc3a19",
   "metadata": {
    "tags": []
   },
   "source": [
    "# 603: Big Data\n",
    "# Group Project: Search for Persons of Interest (SPI)\n",
    "## Professor: Akshata Kishore Moharir\n",
    "## Student: Edwin Brown, Lidia Hutcherson, Levan Sulimanov"
   ]
  },
  {
   "cell_type": "markdown",
   "id": "1931958a-52f4-4d65-ab9a-050c096bd2d9",
   "metadata": {},
   "source": [
    "----------------------"
   ]
  },
  {
   "cell_type": "code",
   "execution_count": 1,
   "id": "f25b4a9c-dbf7-434d-9e03-45de6945a0f1",
   "metadata": {},
   "outputs": [],
   "source": [
    "# !pip install KafkaConsumer KafkaProducer\n",
    "# !pip install pymongo\n",
    "# !pip install imutils\n",
    "# if you need more packages, look below for attached full list of package versions."
   ]
  },
  {
   "cell_type": "code",
   "execution_count": 2,
   "id": "83a2cc5a-dc69-4a61-a03f-a572496eb34f",
   "metadata": {},
   "outputs": [
    {
     "name": "stderr",
     "output_type": "stream",
     "text": [
      "\u001b[32m18:03:08\u001b[0m :: \u001b[1;35m   Helper    \u001b[0m :: \u001b[1;36m  INFO  \u001b[0m :: \u001b[1;37mRunning VidGear Version: 0.2.6\u001b[0m\n"
     ]
    }
   ],
   "source": [
    "from spi_utilities import SPI_Utils"
   ]
  },
  {
   "cell_type": "code",
   "execution_count": 3,
   "id": "d3e00664-8592-42f5-95e3-c5be9cbc3964",
   "metadata": {},
   "outputs": [
    {
     "name": "stdout",
     "output_type": "stream",
     "text": [
      "Requested video sources are:\n",
      "  - ./demo_data/video_sample_1.mp4\n",
      "  - ./demo_data/video_sample_2.mp4\n",
      "  - ./demo_data/video_sample_3.mp4\n",
      "  - ./demo_data/video_sample_4.mp4\n",
      "\n",
      "\n"
     ]
    }
   ],
   "source": [
    "def main():\n",
    "    kafka_producer = SPI_Utils(mode=\"producer\")\n",
    "    kafka_producer.produce_kafka_messages()   \n",
    "main()"
   ]
  },
  {
   "cell_type": "code",
   "execution_count": 1,
   "id": "e60df420-08c8-4424-87d1-993246e95dd1",
   "metadata": {},
   "outputs": [],
   "source": [
    "# Future goals:\n",
    "# 1. Parallel processing videos (saving frames in storage) simultaneously.\n",
    "# 2. PySpark Structured Streaming => grab files from step 1 and detect newly arriving ones => feed them through model\n",
    "# 3. Move to DataBricks."
   ]
  },
  {
   "cell_type": "code",
   "execution_count": 2,
   "id": "a667429b-9340-4113-bde5-202429f8b256",
   "metadata": {},
   "outputs": [],
   "source": [
    "# Next Tasks:\n",
    "# [Edwin] 1. Write and Read from MongoDB (for structured streaming part => perform_spark_streaming_and_processing() and get it mapped to the folium map.\n",
    "# [Lidia] 2. Find fetch for (a) PySpark Structured Streaming or (b) Change Streams to pull and convert latest data to numpy image / show content.\n",
    "# [Levan] 3. Process videos in parallel and send them to data storage."
   ]
  },
  {
   "cell_type": "code",
   "execution_count": 5,
   "id": "b476b481-1876-46ea-b95d-96ed8990feb0",
   "metadata": {},
   "outputs": [],
   "source": [
    "# # Package versions:\n",
    "# affine @ file:///home/conda/feedstock_root/build_artifacts/affine_1648309059244/work\n",
    "# anyio @ file:///home/conda/feedstock_root/build_artifacts/anyio_1666191106763/work/dist\n",
    "# argon2-cffi @ file:///home/conda/feedstock_root/build_artifacts/argon2-cffi_1640817743617/work\n",
    "# argon2-cffi-bindings @ file:///D:/bld/argon2-cffi-bindings_1649500527917/work\n",
    "# asttokens @ file:///home/conda/feedstock_root/build_artifacts/asttokens_1667325728359/work\n",
    "# attrs @ file:///home/conda/feedstock_root/build_artifacts/attrs_1659291887007/work\n",
    "# Babel @ file:///home/conda/feedstock_root/build_artifacts/babel_1667688356751/work\n",
    "# backcall @ file:///home/conda/feedstock_root/build_artifacts/backcall_1592338393461/work\n",
    "# backports.functools-lru-cache @ file:///home/conda/feedstock_root/build_artifacts/backports.functools_lru_cache_1618230623929/work\n",
    "# beautifulsoup4 @ file:///home/conda/feedstock_root/build_artifacts/beautifulsoup4_1649463573192/work\n",
    "# bleach @ file:///home/conda/feedstock_root/build_artifacts/bleach_1656355450470/work\n",
    "# branca @ file:///home/conda/feedstock_root/build_artifacts/branca_1667848736831/work\n",
    "# brotlipy @ file:///D:/bld/brotlipy_1648854347500/work\n",
    "# certifi==2022.9.24\n",
    "# cffi @ file:///D:/bld/cffi_1656782940775/work\n",
    "# charset-normalizer @ file:///home/conda/feedstock_root/build_artifacts/charset-normalizer_1661170624537/work\n",
    "# click @ file:///D:/bld/click_1666798499870/work\n",
    "# click-plugins==1.1.1\n",
    "# cligj @ file:///home/conda/feedstock_root/build_artifacts/cligj_1633637764473/work\n",
    "# cmake==3.25.0\n",
    "# colorama @ file:///home/conda/feedstock_root/build_artifacts/colorama_1666700638685/work\n",
    "# contourpy==1.0.6\n",
    "# cryptography @ file:///D:/bld/cryptography_1657174142266/work\n",
    "# cycler @ file:///tmp/build/80754af9/cycler_1637851556182/work\n",
    "# debugpy @ file:///D:/bld/debugpy_1660619096890/work\n",
    "# decorator @ file:///home/conda/feedstock_root/build_artifacts/decorator_1641555617451/work\n",
    "# defusedxml @ file:///home/conda/feedstock_root/build_artifacts/defusedxml_1615232257335/work\n",
    "# descartes @ file:///Users/ktietz/demo/mc3/conda-bld/descartes_1630659560270/work\n",
    "# dill==0.3.6\n",
    "# dlib @ file:///D:/bld/dlib_1652035358294/work\n",
    "# dnspython==2.2.1\n",
    "# earthpy==0.9.4\n",
    "# entrypoints @ file:///home/conda/feedstock_root/build_artifacts/entrypoints_1643888246732/work\n",
    "# executing @ file:///home/conda/feedstock_root/build_artifacts/executing_1667317341051/work\n",
    "# face-recognition==1.3.0\n",
    "# face-recognition-models==0.3.0\n",
    "# facenet-pytorch==2.5.2\n",
    "# fastjsonschema @ file:///home/conda/feedstock_root/build_artifacts/python-fastjsonschema_1663619548554/work/dist\n",
    "# Fiona==1.8.22\n",
    "# Flask==2.2.2\n",
    "# flit_core @ file:///home/conda/feedstock_root/build_artifacts/flit-core_1667734568827/work/source/flit_core\n",
    "# folium @ file:///home/conda/feedstock_root/build_artifacts/folium_1665185302619/work\n",
    "# fonttools==4.38.0\n",
    "# GDAL==3.5.3\n",
    "# geopandas @ file:///home/conda/feedstock_root/build_artifacts/geopandas_1667565716584/work\n",
    "# idna @ file:///home/conda/feedstock_root/build_artifacts/idna_1663625384323/work\n",
    "# imageio==2.22.4\n",
    "# importlib-metadata @ file:///home/conda/feedstock_root/build_artifacts/importlib-metadata_1666781969417/work\n",
    "# importlib-resources @ file:///home/conda/feedstock_root/build_artifacts/importlib_resources_1665204935269/work\n",
    "# imutils==0.5.4\n",
    "# inotify==0.2.7\n",
    "# ipykernel @ file:///D:/bld/ipykernel_1668027251175/work\n",
    "# ipyleaflet @ file:///home/conda/feedstock_root/build_artifacts/ipyleaflet_1666182640716/work\n",
    "# ipython @ file:///D:/bld/ipython_1667140819615/work\n",
    "# ipython-genutils==0.2.0\n",
    "# ipywidgets @ file:///home/conda/feedstock_root/build_artifacts/ipywidgets_1662482321563/work\n",
    "# itsdangerous==2.1.2\n",
    "# jedi @ file:///home/conda/feedstock_root/build_artifacts/jedi_1659959867326/work\n",
    "# Jinja2 @ file:///home/conda/feedstock_root/build_artifacts/jinja2_1654302431367/work\n",
    "# joblib @ file:///home/conda/feedstock_root/build_artifacts/joblib_1663332044897/work\n",
    "# json5 @ file:///home/conda/feedstock_root/build_artifacts/json5_1600692310011/work\n",
    "# jsonschema @ file:///home/conda/feedstock_root/build_artifacts/jsonschema-meta_1667361745641/work\n",
    "# jupyter-server @ file:///home/conda/feedstock_root/build_artifacts/jupyter_server_1668451283216/work\n",
    "# jupyter_client @ file:///home/conda/feedstock_root/build_artifacts/jupyter_client_1668623095912/work\n",
    "# jupyter_core @ file:///D:/bld/jupyter_core_1668030965393/work\n",
    "# jupyterlab @ file:///home/conda/feedstock_root/build_artifacts/jupyterlab_1666613090338/work\n",
    "# jupyterlab-pygments @ file:///home/conda/feedstock_root/build_artifacts/jupyterlab_pygments_1649936611996/work\n",
    "# jupyterlab-widgets @ file:///home/conda/feedstock_root/build_artifacts/jupyterlab_widgets_1662157840858/work\n",
    "# jupyterlab_server @ file:///home/conda/feedstock_root/build_artifacts/jupyterlab_server_1668171221202/work\n",
    "# kafka-python==2.0.2\n",
    "# kiwisolver==1.4.4\n",
    "# mapclassify @ file:///home/conda/feedstock_root/build_artifacts/mapclassify_1627363180059/work\n",
    "# MarkupSafe @ file:///D:/bld/markupsafe_1648737731599/work\n",
    "# matplotlib==3.6.1\n",
    "# matplotlib-inline @ file:///home/conda/feedstock_root/build_artifacts/matplotlib-inline_1660814786464/work\n",
    "# mistune @ file:///home/conda/feedstock_root/build_artifacts/mistune_1657892024508/work\n",
    "# munch==2.5.0\n",
    "# munkres==1.1.4\n",
    "# nbclassic @ file:///home/conda/feedstock_root/build_artifacts/nbclassic_1667492839781/work\n",
    "# nbclient @ file:///home/conda/feedstock_root/build_artifacts/nbclient_1665125402713/work\n",
    "# nbconvert @ file:///home/conda/feedstock_root/build_artifacts/nbconvert-meta_1668442474361/work\n",
    "# nbformat @ file:///home/conda/feedstock_root/build_artifacts/nbformat_1665426034066/work\n",
    "# nest-asyncio @ file:///home/conda/feedstock_root/build_artifacts/nest-asyncio_1664684991461/work\n",
    "# networkx @ file:///home/conda/feedstock_root/build_artifacts/networkx_1667391556261/work\n",
    "# nltk==3.7\n",
    "# nose==1.3.7\n",
    "# notebook @ file:///home/conda/feedstock_root/build_artifacts/notebook_1667565639349/work\n",
    "# notebook_shim @ file:///home/conda/feedstock_root/build_artifacts/notebook-shim_1667478401171/work\n",
    "# numpy==1.23.4\n",
    "# opencv-python==4.6.0.66\n",
    "# packaging @ file:///home/conda/feedstock_root/build_artifacts/packaging_1637239678211/work\n",
    "# pandas @ file:///D:/bld/pandas_1669134646849/work\n",
    "# pandocfilters @ file:///home/conda/feedstock_root/build_artifacts/pandocfilters_1631603243851/work\n",
    "# parso @ file:///home/conda/feedstock_root/build_artifacts/parso_1638334955874/work\n",
    "# pickleshare @ file:///home/conda/feedstock_root/build_artifacts/pickleshare_1602536217715/work\n",
    "# Pillow==9.2.0\n",
    "# pkgutil_resolve_name @ file:///home/conda/feedstock_root/build_artifacts/pkgutil-resolve-name_1633981968097/work\n",
    "# platformdirs @ file:///home/conda/feedstock_root/build_artifacts/platformdirs_1657729053205/work\n",
    "# pp @ file:///C:/Users/lrspr/Desktop/Masters_Program/603_Big_Data/Project/Group_Project/SPI_Project/pp-1.6.4.4\n",
    "# prometheus-client @ file:///home/conda/feedstock_root/build_artifacts/prometheus_client_1665692535292/work\n",
    "# prompt-toolkit @ file:///home/conda/feedstock_root/build_artifacts/prompt-toolkit_1667565496306/work\n",
    "# psutil==5.9.3\n",
    "# pure-eval @ file:///home/conda/feedstock_root/build_artifacts/pure_eval_1642875951954/work\n",
    "# py4j==0.10.9.3\n",
    "# pycparser @ file:///home/conda/feedstock_root/build_artifacts/pycparser_1636257122734/work\n",
    "# Pygments @ file:///home/conda/feedstock_root/build_artifacts/pygments_1660666458521/work\n",
    "# pymongo==4.3.3\n",
    "# pyOpenSSL @ file:///home/conda/feedstock_root/build_artifacts/pyopenssl_1663846997386/work\n",
    "# pyparsing @ file:///home/conda/feedstock_root/build_artifacts/pyparsing_1652235407899/work\n",
    "# pyproj @ file:///D:/bld/pyproj_1666938698483/work\n",
    "# pyrsistent==0.18.1\n",
    "# PySocks @ file:///D:/bld/pysocks_1661604991356/work\n",
    "# pyspark==3.2.1\n",
    "# python-dateutil @ file:///home/conda/feedstock_root/build_artifacts/python-dateutil_1626286286081/work\n",
    "# pytz @ file:///home/conda/feedstock_root/build_artifacts/pytz_1667391478166/work\n",
    "# PyWavelets==1.4.1\n",
    "# pywin32==304\n",
    "# pywinpty==2.0.8\n",
    "# pyzmq==24.0.1\n",
    "# rasterio==1.3.3\n",
    "# regex==2022.10.31\n",
    "# requests @ file:///home/conda/feedstock_root/build_artifacts/requests_1661872987712/work\n",
    "# rioxarray @ file:///home/conda/feedstock_root/build_artifacts/rioxarray_1668224133888/work\n",
    "# Rtree @ file:///D:/bld/rtree_1666813330222/work\n",
    "# scikit-image==0.19.3\n",
    "# scikit-learn @ file:///D:/bld/scikit-learn_1666884914405/work\n",
    "# scipy==1.9.3\n",
    "# Send2Trash @ file:///home/conda/feedstock_root/build_artifacts/send2trash_1628511208346/work\n",
    "# Shapely==1.8.5.post1\n",
    "# sidecar==0.5.1\n",
    "# six @ file:///home/conda/feedstock_root/build_artifacts/six_1620240208055/work\n",
    "# sniffio @ file:///home/conda/feedstock_root/build_artifacts/sniffio_1662051266223/work\n",
    "# snuggs==1.4.7\n",
    "# soupsieve @ file:///home/conda/feedstock_root/build_artifacts/soupsieve_1658207591808/work\n",
    "# sparktorch==0.1.2\n",
    "# stack-data @ file:///home/conda/feedstock_root/build_artifacts/stack_data_1668260892666/work\n",
    "# terminado @ file:///D:/bld/terminado_1666707934477/work\n",
    "# threadpoolctl @ file:///home/conda/feedstock_root/build_artifacts/threadpoolctl_1643647933166/work\n",
    "# tifffile==2022.10.10\n",
    "# tinycss2 @ file:///home/conda/feedstock_root/build_artifacts/tinycss2_1666100256010/work\n",
    "# tomli @ file:///home/conda/feedstock_root/build_artifacts/tomli_1644342247877/work\n",
    "# torch==1.12.1+cu116\n",
    "# torchaudio==0.12.1+cu116\n",
    "# torchvision==0.13.1+cu116\n",
    "# tornado @ file:///D:/bld/tornado_1656937966227/work\n",
    "# tqdm==4.64.1\n",
    "# traitlets @ file:///home/conda/feedstock_root/build_artifacts/traitlets_1666115969632/work\n",
    "# traittypes @ file:///home/conda/feedstock_root/build_artifacts/traittypes_1600843364635/work\n",
    "# typing_extensions @ file:///home/conda/feedstock_root/build_artifacts/typing_extensions_1665144421445/work\n",
    "# urllib3==1.26.12\n",
    "# wcwidth @ file:///home/conda/feedstock_root/build_artifacts/wcwidth_1600965781394/work\n",
    "# webencodings==0.5.1\n",
    "# websocket-client @ file:///home/conda/feedstock_root/build_artifacts/websocket-client_1667568040382/work\n",
    "# Werkzeug==2.2.2\n",
    "# widgetsnbextension @ file:///home/conda/feedstock_root/build_artifacts/widgetsnbextension_1662157836868/work\n",
    "# win-inet-pton @ file:///D:/bld/win_inet_pton_1667051142467/work\n",
    "# wincertstore==0.2\n",
    "# xarray @ file:///home/conda/feedstock_root/build_artifacts/xarray_1667615844904/work\n",
    "# xyzservices @ file:///home/conda/feedstock_root/build_artifacts/xyzservices_1663619671984/work\n",
    "# zipp @ file:///home/conda/feedstock_root/build_artifacts/zipp_1666647772197/work"
   ]
  },
  {
   "cell_type": "code",
   "execution_count": null,
   "id": "59fd1502-a20f-4362-9c6b-40f65b175aff",
   "metadata": {},
   "outputs": [],
   "source": [
    "##########################################################"
   ]
  },
  {
   "cell_type": "code",
   "execution_count": null,
   "id": "23dccd88-9807-48af-b3d9-1d7e5be4890e",
   "metadata": {},
   "outputs": [],
   "source": [
    "##########################################################"
   ]
  },
  {
   "cell_type": "code",
   "execution_count": null,
   "id": "6777d465-85d3-401a-88fe-4b3923c3ec2c",
   "metadata": {},
   "outputs": [],
   "source": [
    "##########################################################"
   ]
  },
  {
   "cell_type": "code",
   "execution_count": null,
   "id": "4a783f9d-736b-4b58-b774-9f75196c686a",
   "metadata": {},
   "outputs": [],
   "source": [
    "##########################################################"
   ]
  },
  {
   "cell_type": "code",
   "execution_count": null,
   "id": "e4ea2f4d-6132-4d83-b6e0-1d41bf490385",
   "metadata": {},
   "outputs": [],
   "source": [
    "##########################################################"
   ]
  },
  {
   "cell_type": "code",
   "execution_count": null,
   "id": "4aa2f39b-1e5b-4dd5-b25e-293c4ee659d4",
   "metadata": {},
   "outputs": [],
   "source": [
    "##########################################################"
   ]
  },
  {
   "cell_type": "code",
   "execution_count": null,
   "id": "30047db9-3ea1-46cc-8f26-0a4b0597ad26",
   "metadata": {},
   "outputs": [],
   "source": [
    "##########################################################"
   ]
  },
  {
   "cell_type": "code",
   "execution_count": null,
   "id": "c8dde521-686a-43e2-9af9-a9b8b06bd48d",
   "metadata": {},
   "outputs": [],
   "source": [
    "##########################################################"
   ]
  },
  {
   "cell_type": "code",
   "execution_count": null,
   "id": "98cc5849-78ac-450a-bb79-53a6d4d3e4e0",
   "metadata": {},
   "outputs": [],
   "source": [
    "##########################################################"
   ]
  },
  {
   "cell_type": "code",
   "execution_count": null,
   "id": "94fc4bb0-0647-4ae1-95ad-a96bf9a4172a",
   "metadata": {},
   "outputs": [],
   "source": [
    "##########################################################"
   ]
  },
  {
   "cell_type": "code",
   "execution_count": null,
   "id": "a72d7b63-85cc-4c50-b631-80886a921070",
   "metadata": {},
   "outputs": [],
   "source": [
    "##########################################################"
   ]
  },
  {
   "cell_type": "code",
   "execution_count": null,
   "id": "cc855060-ed81-45b7-ad21-43580f7478f5",
   "metadata": {},
   "outputs": [],
   "source": [
    "##########################################################"
   ]
  },
  {
   "cell_type": "code",
   "execution_count": null,
   "id": "668e4f61-c2da-43f3-8177-b9b0e3aead1a",
   "metadata": {},
   "outputs": [],
   "source": [
    "##########################################################"
   ]
  },
  {
   "cell_type": "code",
   "execution_count": null,
   "id": "a65eac6b-8918-4433-ab31-e1673a8e3118",
   "metadata": {},
   "outputs": [],
   "source": [
    "##########################################################"
   ]
  }
 ],
 "metadata": {
  "kernelspec": {
   "display_name": "Python 3 (ipykernel)",
   "language": "python",
   "name": "python3"
  },
  "language_info": {
   "codemirror_mode": {
    "name": "ipython",
    "version": 3
   },
   "file_extension": ".py",
   "mimetype": "text/x-python",
   "name": "python",
   "nbconvert_exporter": "python",
   "pygments_lexer": "ipython3",
   "version": "3.10.6"
  }
 },
 "nbformat": 4,
 "nbformat_minor": 5
}
