{
 "cells": [
  {
   "cell_type": "markdown",
   "id": "b847a3df-8069-472b-9b31-5835e24e9fec",
   "metadata": {
    "tags": []
   },
   "source": [
    "# 603: Big Data\n",
    "# Group Project: Search for Persons of Interest (SPI)\n",
    "## Professor: Akshata Kishore Moharir\n",
    "## Student: Edwin Brown, Lidia Hutcherson, Levan Sulimanov"
   ]
  },
  {
   "cell_type": "markdown",
   "id": "963a431a-e358-4ad0-a68b-01883596c682",
   "metadata": {},
   "source": [
    "----------------------"
   ]
  },
  {
   "cell_type": "markdown",
   "id": "37979c5b-1e9b-44b6-a839-b6fe5782404d",
   "metadata": {},
   "source": [
    "### Importing Spi Utilities from spi_utilities.py"
   ]
  },
  {
   "cell_type": "code",
   "execution_count": 3,
   "id": "5fbf0739-3726-435d-83ca-96d1ef135201",
   "metadata": {},
   "outputs": [
    {
     "name": "stderr",
     "output_type": "stream",
     "text": [
      "\u001b[32m18:02:29\u001b[0m :: \u001b[1;35m   Helper    \u001b[0m :: \u001b[1;36m  INFO  \u001b[0m :: \u001b[1;37mRunning VidGear Version: 0.2.6\u001b[0m\n"
     ]
    }
   ],
   "source": [
    "from spi_utilities import SPI_Utils"
   ]
  },
  {
   "cell_type": "markdown",
   "id": "e9697d34-d6cf-4277-9988-6ca02dd446d2",
   "metadata": {},
   "source": [
    "### Running Kafka Consumer to gather frames into the storage:"
   ]
  },
  {
   "cell_type": "code",
   "execution_count": null,
   "id": "c734161a-5229-40ef-a65e-f6bead3cb068",
   "metadata": {
    "tags": []
   },
   "outputs": [
    {
     "name": "stderr",
     "output_type": "stream",
     "text": [
      "\u001b[32m18:03:10\u001b[0m :: \u001b[1;35m   Helper    \u001b[0m :: \u001b[1;31m\u001b[2;33mWARNING \u001b[0m :: \u001b[1;37mGStreamer not found!\u001b[0m\n",
      "\u001b[32m18:03:10\u001b[0m :: \u001b[1;35m   Helper    \u001b[0m :: \u001b[1;33m DEBUG  \u001b[0m :: \u001b[1;37mSelecting `best` resolution for streams.\u001b[0m\n",
      "\u001b[32m18:03:10\u001b[0m :: \u001b[1;35m   CamGear   \u001b[0m :: \u001b[1;36m  INFO  \u001b[0m :: \u001b[1;37mVerifying Streaming URL using yt-dlp backend. Please wait...\u001b[0m\n"
     ]
    },
    {
     "name": "stdout",
     "output_type": "stream",
     "text": [
      "decoded_message: {'video_path': './demo_data/video_sample_1.mp4', 'video_tag': 'video_1', 'camera_id': 101, 'camera_latitude': 34.130499, 'camera_longitude': -118.321127}\n"
     ]
    },
    {
     "name": "stderr",
     "output_type": "stream",
     "text": [
      "ERROR: [generic] './demo_data/video_sample_1.mp4' is not a valid URL. Set --default-search \"ytsearch\" (or run  yt-dlp \"ytsearch:./demo_data/video_sample_1.mp4\" ) to search YouTube\n",
      "\u001b[32m18:03:11\u001b[0m :: \u001b[1;35m   Helper    \u001b[0m :: \u001b[1;31m\u001b[2;33mWARNING \u001b[0m :: \u001b[1;37mGStreamer not found!\u001b[0m\n",
      "\u001b[32m18:03:11\u001b[0m :: \u001b[1;35m   Helper    \u001b[0m :: \u001b[1;33m DEBUG  \u001b[0m :: \u001b[1;37mSelecting `best` resolution for streams.\u001b[0m\n",
      "\u001b[32m18:03:11\u001b[0m :: \u001b[1;35m   CamGear   \u001b[0m :: \u001b[1;36m  INFO  \u001b[0m :: \u001b[1;37mVerifying Streaming URL using yt-dlp backend. Please wait...\u001b[0m\n",
      "ERROR: [generic] './demo_data/video_sample_2.mp4' is not a valid URL. Set --default-search \"ytsearch\" (or run  yt-dlp \"ytsearch:./demo_data/video_sample_2.mp4\" ) to search YouTube\n",
      "\u001b[32m18:03:11\u001b[0m :: \u001b[1;35m   Helper    \u001b[0m :: \u001b[1;31m\u001b[2;33mWARNING \u001b[0m :: \u001b[1;37mGStreamer not found!\u001b[0m\n",
      "\u001b[32m18:03:11\u001b[0m :: \u001b[1;35m   Helper    \u001b[0m :: \u001b[1;33m DEBUG  \u001b[0m :: \u001b[1;37mSelecting `best` resolution for streams.\u001b[0m\n",
      "\u001b[32m18:03:11\u001b[0m :: \u001b[1;35m   CamGear   \u001b[0m :: \u001b[1;36m  INFO  \u001b[0m :: \u001b[1;37mVerifying Streaming URL using yt-dlp backend. Please wait...\u001b[0m\n",
      "ERROR: [generic] './demo_data/video_sample_3.mp4' is not a valid URL. Set --default-search \"ytsearch\" (or run  yt-dlp \"ytsearch:./demo_data/video_sample_3.mp4\" ) to search YouTube\n"
     ]
    },
    {
     "name": "stdout",
     "output_type": "stream",
     "text": [
      "Started processing: ./demo_data/video_sample_1.mp4\n",
      "decoded_message: {'video_path': './demo_data/video_sample_2.mp4', 'video_tag': 'video_2', 'camera_id': 102, 'camera_latitude': 19.753641, 'camera_longitude': -155.523956}\n",
      "Started processing: ./demo_data/video_sample_2.mp4\n",
      "decoded_message: {'video_path': './demo_data/video_sample_3.mp4', 'video_tag': 'video_3', 'camera_id': 103, 'camera_latitude': 29.774382, 'camera_longitude': -95.368318}\n"
     ]
    },
    {
     "name": "stderr",
     "output_type": "stream",
     "text": [
      "\u001b[32m18:03:11\u001b[0m :: \u001b[1;35m   Helper    \u001b[0m :: \u001b[1;31m\u001b[2;33mWARNING \u001b[0m :: \u001b[1;37mGStreamer not found!\u001b[0m\n",
      "\u001b[32m18:03:11\u001b[0m :: \u001b[1;35m   Helper    \u001b[0m :: \u001b[1;33m DEBUG  \u001b[0m :: \u001b[1;37mSelecting `best` resolution for streams.\u001b[0m\n",
      "\u001b[32m18:03:11\u001b[0m :: \u001b[1;35m   CamGear   \u001b[0m :: \u001b[1;36m  INFO  \u001b[0m :: \u001b[1;37mVerifying Streaming URL using yt-dlp backend. Please wait...\u001b[0m\n",
      "ERROR: [generic] './demo_data/video_sample_4.mp4' is not a valid URL. Set --default-search \"ytsearch\" (or run  yt-dlp \"ytsearch:./demo_data/video_sample_4.mp4\" ) to search YouTube\n"
     ]
    },
    {
     "name": "stdout",
     "output_type": "stream",
     "text": [
      "Started processing: ./demo_data/video_sample_3.mp4\n",
      "decoded_message: {'video_path': './demo_data/video_sample_4.mp4', 'video_tag': 'video_4', 'camera_id': 104, 'camera_latitude': 38.962368, 'camera_longitude': -77.018047}\n",
      "Started processing: ./demo_data/video_sample_4.mp4\n",
      "<<<No frame read. Skipping.>>>\n",
      "<<<No frame read. Skipping.>>>\n",
      "<<<No frame read. Skipping.>>>\n",
      "<<<No frame read. Skipping.>>>\n"
     ]
    }
   ],
   "source": [
    "def main():\n",
    "    kafka_consumer = SPI_Utils(mode=\"consumer\")\n",
    "    kafka_consumer.frame_transmitter()   # trace this one to how it saves the frames\n",
    "main()"
   ]
  },
  {
   "cell_type": "code",
   "execution_count": null,
   "id": "aeee04fd-cbe3-435e-b2d1-74fe2ce4f899",
   "metadata": {},
   "outputs": [],
   "source": [
    "##########################################################"
   ]
  },
  {
   "cell_type": "code",
   "execution_count": null,
   "id": "75c5c625-a034-4009-a974-66c6ce6e887a",
   "metadata": {},
   "outputs": [],
   "source": [
    "##########################################################"
   ]
  },
  {
   "cell_type": "code",
   "execution_count": null,
   "id": "536ff424-1c7b-4c1f-9960-bbac69a65c1f",
   "metadata": {},
   "outputs": [],
   "source": [
    "##########################################################"
   ]
  },
  {
   "cell_type": "code",
   "execution_count": null,
   "id": "0677b111-9942-4762-ae21-9d838d119785",
   "metadata": {},
   "outputs": [],
   "source": [
    "##########################################################"
   ]
  },
  {
   "cell_type": "code",
   "execution_count": null,
   "id": "c8ab8df8-8d01-49f2-b21f-9640782999a2",
   "metadata": {},
   "outputs": [],
   "source": [
    "##########################################################"
   ]
  },
  {
   "cell_type": "code",
   "execution_count": null,
   "id": "f5981014-efc1-4161-8f6e-5fd304fba3f2",
   "metadata": {},
   "outputs": [],
   "source": [
    "##########################################################"
   ]
  },
  {
   "cell_type": "code",
   "execution_count": null,
   "id": "7f4a0c74-1cd7-43bd-86d1-7fb086f918b1",
   "metadata": {},
   "outputs": [],
   "source": [
    "##########################################################"
   ]
  },
  {
   "cell_type": "code",
   "execution_count": null,
   "id": "a23add49-a0be-4e0c-b17b-9599622012e5",
   "metadata": {},
   "outputs": [],
   "source": [
    "##########################################################"
   ]
  },
  {
   "cell_type": "code",
   "execution_count": null,
   "id": "d58077b3-3101-4fcf-835b-ae287faaf701",
   "metadata": {},
   "outputs": [],
   "source": [
    "##########################################################"
   ]
  },
  {
   "cell_type": "code",
   "execution_count": null,
   "id": "9d6f43e7-6d31-4cb9-b46b-031e8c673726",
   "metadata": {},
   "outputs": [],
   "source": [
    "##########################################################"
   ]
  },
  {
   "cell_type": "code",
   "execution_count": null,
   "id": "c862237e-7859-4670-a303-1102b14b720e",
   "metadata": {},
   "outputs": [],
   "source": [
    "##########################################################"
   ]
  },
  {
   "cell_type": "code",
   "execution_count": null,
   "id": "3a48cb93-61dc-4f65-b71c-588e0232b9f6",
   "metadata": {},
   "outputs": [],
   "source": [
    "##########################################################"
   ]
  },
  {
   "cell_type": "code",
   "execution_count": null,
   "id": "f4679711-6c67-48dd-abec-2d8eb4ac2279",
   "metadata": {},
   "outputs": [],
   "source": [
    "##########################################################"
   ]
  },
  {
   "cell_type": "code",
   "execution_count": null,
   "id": "3cb885c4-bc80-4766-ab35-e221a837284c",
   "metadata": {},
   "outputs": [],
   "source": [
    "##########################################################"
   ]
  },
  {
   "cell_type": "code",
   "execution_count": null,
   "id": "2d31779f-4472-482b-be56-e6118bb46f28",
   "metadata": {},
   "outputs": [],
   "source": [
    "##########################################################"
   ]
  }
 ],
 "metadata": {
  "kernelspec": {
   "display_name": "Python 3 (ipykernel)",
   "language": "python",
   "name": "python3"
  },
  "language_info": {
   "codemirror_mode": {
    "name": "ipython",
    "version": 3
   },
   "file_extension": ".py",
   "mimetype": "text/x-python",
   "name": "python",
   "nbconvert_exporter": "python",
   "pygments_lexer": "ipython3",
   "version": "3.10.6"
  }
 },
 "nbformat": 4,
 "nbformat_minor": 5
}
